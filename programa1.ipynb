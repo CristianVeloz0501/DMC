{
  "nbformat": 4,
  "nbformat_minor": 0,
  "metadata": {
    "colab": {
      "provenance": [],
      "collapsed_sections": [],
      "authorship_tag": "ABX9TyMeY6IhV+IkEX8itgg5+Wqp",
      "include_colab_link": true
    },
    "kernelspec": {
      "name": "python3",
      "display_name": "Python 3"
    },
    "language_info": {
      "name": "python"
    }
  },
  "cells": [
    {
      "cell_type": "markdown",
      "metadata": {
        "id": "view-in-github",
        "colab_type": "text"
      },
      "source": [
        "<a href=\"https://colab.research.google.com/github/CristianVeloz0501/DMC/blob/main/programa1.ipynb\" target=\"_parent\"><img src=\"https://colab.research.google.com/assets/colab-badge.svg\" alt=\"Open In Colab\"/></a>"
      ]
    },
    {
      "cell_type": "code",
      "execution_count": null,
      "metadata": {
        "id": "rYdhsi5aJuZK",
        "colab": {
          "base_uri": "https://localhost:8080/"
        },
        "outputId": "bc69e43e-a646-4eab-d030-0496d22e4515"
      },
      "outputs": [
        {
          "output_type": "stream",
          "name": "stdout",
          "text": [
            "Ingrese un nombre: carlos\n",
            "Tu nombre es: Carlos\n"
          ]
        }
      ],
      "source": [
        "A=input('Ingrese un nombre: ')\n",
        "print(f\"Tu nombre es: {A.title()}\")"
      ]
    },
    {
      "cell_type": "markdown",
      "source": [
        "Eliminar espacios en blanco"
      ],
      "metadata": {
        "id": "oqwyewx0NxBb"
      }
    },
    {
      "cell_type": "code",
      "source": [
        "B=input('Ingrese una palabra: ')\n",
        "B.strip()"
      ],
      "metadata": {
        "colab": {
          "base_uri": "https://localhost:8080/",
          "height": 53
        },
        "id": "JsKoh7DKNvDx",
        "outputId": "497f08f4-a9ff-4740-eb64-6b1585feda3a"
      },
      "execution_count": null,
      "outputs": [
        {
          "name": "stdout",
          "output_type": "stream",
          "text": [
            "Ingrese una palabra:  python \n"
          ]
        },
        {
          "output_type": "execute_result",
          "data": {
            "text/plain": [
              "'python'"
            ],
            "application/vnd.google.colaboratory.intrinsic+json": {
              "type": "string"
            }
          },
          "metadata": {},
          "execution_count": 3
        }
      ]
    },
    {
      "cell_type": "code",
      "source": [
        "D=input('Ingrese una palabra: ')\n",
        "D=D.replace(' ','')\n",
        "print(D)"
      ],
      "metadata": {
        "colab": {
          "base_uri": "https://localhost:8080/"
        },
        "id": "dmlexfKtOEBR",
        "outputId": "cc0e4275-1207-4e22-b378-efb8d1dc3716"
      },
      "execution_count": null,
      "outputs": [
        {
          "output_type": "stream",
          "name": "stdout",
          "text": [
            "Ingrese una palabra: py thon\n",
            "python\n"
          ]
        }
      ]
    }
  ]
}