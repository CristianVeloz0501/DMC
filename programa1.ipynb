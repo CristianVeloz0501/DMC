{
  "nbformat": 4,
  "nbformat_minor": 0,
  "metadata": {
    "colab": {
      "provenance": [],
      "collapsed_sections": [],
      "authorship_tag": "ABX9TyNZSXav1Mw2yvCONta0ZW2f",
      "include_colab_link": true
    },
    "kernelspec": {
      "name": "python3",
      "display_name": "Python 3"
    },
    "language_info": {
      "name": "python"
    }
  },
  "cells": [
    {
      "cell_type": "markdown",
      "metadata": {
        "id": "view-in-github",
        "colab_type": "text"
      },
      "source": [
        "<a href=\"https://colab.research.google.com/github/CristianVeloz0501/DMC/blob/main/programa1.ipynb\" target=\"_parent\"><img src=\"https://colab.research.google.com/assets/colab-badge.svg\" alt=\"Open In Colab\"/></a>"
      ]
    },
    {
      "cell_type": "code",
      "execution_count": null,
      "metadata": {
        "id": "rYdhsi5aJuZK",
        "colab": {
          "base_uri": "https://localhost:8080/"
        },
        "outputId": "bc69e43e-a646-4eab-d030-0496d22e4515"
      },
      "outputs": [
        {
          "output_type": "stream",
          "name": "stdout",
          "text": [
            "Ingrese un nombre: carlos\n",
            "Tu nombre es: Carlos\n"
          ]
        }
      ],
      "source": [
        "A=input('Ingrese un nombre: ')\n",
        "print(f\"Tu nombre es: {A.title()}\")"
      ]
    },
    {
      "cell_type": "markdown",
      "source": [
        "Eliminar espacios en blanco"
      ],
      "metadata": {
        "id": "oqwyewx0NxBb"
      }
    },
    {
      "cell_type": "code",
      "source": [
        "B=input('Ingrese una palabra: ')\n",
        "B.strip()"
      ],
      "metadata": {
        "colab": {
          "base_uri": "https://localhost:8080/",
          "height": 53
        },
        "id": "JsKoh7DKNvDx",
        "outputId": "497f08f4-a9ff-4740-eb64-6b1585feda3a"
      },
      "execution_count": null,
      "outputs": [
        {
          "name": "stdout",
          "output_type": "stream",
          "text": [
            "Ingrese una palabra:  python \n"
          ]
        },
        {
          "output_type": "execute_result",
          "data": {
            "text/plain": [
              "'python'"
            ],
            "application/vnd.google.colaboratory.intrinsic+json": {
              "type": "string"
            }
          },
          "metadata": {},
          "execution_count": 3
        }
      ]
    },
    {
      "cell_type": "code",
      "source": [
        "D=input('Ingrese una palabra: ')\n",
        "D=D.replace(' ','')\n",
        "print(D)"
      ],
      "metadata": {
        "colab": {
          "base_uri": "https://localhost:8080/"
        },
        "id": "dmlexfKtOEBR",
        "outputId": "cc0e4275-1207-4e22-b378-efb8d1dc3716"
      },
      "execution_count": null,
      "outputs": [
        {
          "output_type": "stream",
          "name": "stdout",
          "text": [
            "Ingrese una palabra: py thon\n",
            "python\n"
          ]
        }
      ]
    },
    {
      "cell_type": "markdown",
      "source": [
        "EJERCICIO 1"
      ],
      "metadata": {
        "id": "WaWCFOD921SB"
      }
    },
    {
      "cell_type": "code",
      "source": [
        "v1=3\n",
        "print(f'El numero es {v1}')"
      ],
      "metadata": {
        "colab": {
          "base_uri": "https://localhost:8080/"
        },
        "id": "Qhk2U8He326_",
        "outputId": "aa8d204b-56bc-4910-a215-9af5c967d14f"
      },
      "execution_count": 1,
      "outputs": [
        {
          "output_type": "stream",
          "name": "stdout",
          "text": [
            "El numero es 3\n"
          ]
        }
      ]
    },
    {
      "cell_type": "markdown",
      "source": [
        "EJERCICIO 1\n",
        "Alien color"
      ],
      "metadata": {
        "id": "byMyRbz45P1X"
      }
    },
    {
      "cell_type": "code",
      "source": [
        "import random\n",
        "\n",
        "alien_color=['verde','amarillo','rojo']\n",
        "\n",
        "opc = 1\n",
        "\n",
        "while(opc==1):\n",
        "  ch1=random.choice(alien_color)\n",
        "  opc = int(input('Ingrese 1 para evaluar al Allien: '))\n",
        "  if opc!= 1:\n",
        "    print('Usted ha salido del simulador')\n",
        "    break\n",
        "\n",
        "  if ch1=='verde':\n",
        "    print(f'El Alien es de la raza Aguacatulum por su color {ch1}')\n",
        "    print(f'Gana 5 puntos por encontrar un Allien {ch1}')\n",
        "  elif ch1=='amarillo':\n",
        "    print(f'El Alien es de la raza Hepatitus por su color {ch1}')\n",
        "    print(f'Gana 10 puntos por encontrar un Allien {ch1}')\n",
        "  else:\n",
        "    print(f'El Alien es de la raza Chapulin por su color {ch1}')\n",
        "    print(f'Gana 15 puntos por encontrar un Allien {ch1}')\n"
      ],
      "metadata": {
        "colab": {
          "base_uri": "https://localhost:8080/"
        },
        "id": "-NE_iind5T4_",
        "outputId": "11f6f749-7efe-4492-9525-f74705c528e4"
      },
      "execution_count": 15,
      "outputs": [
        {
          "output_type": "stream",
          "name": "stdout",
          "text": [
            "Ingrese 1 para evaluar al Allien: 1\n",
            "El Alien es de la raza Chapulin por su color rojo\n",
            "Gana 15 puntos por encontrar un Allien rojo\n",
            "Ingrese 1 para evaluar al Allien: 2\n",
            "Usted ha salido del simulador\n"
          ]
        }
      ]
    },
    {
      "cell_type": "markdown",
      "source": [
        "EJERCICIO 2\n",
        "PIZZA"
      ],
      "metadata": {
        "id": "Sjql6e61BwQA"
      }
    },
    {
      "cell_type": "code",
      "source": [
        "lista_ingr=['0.Pepperoni','1.Jamon','2.Queso','3.Champiñones','4.Carne']\n",
        "\n",
        "\n",
        "\n",
        "while True:\n",
        "    print(lista_ingr)\n",
        "    try:\n",
        "       ing=input('Escriba el numero del ingrediente que quiere añadir: ')\n",
        "       ing = int(ing)\n",
        "       ing=lista_ingr[ing]\n",
        "       print(f'Usted ha agregado {ing} a su pizza')\n",
        "    except ValueError:\n",
        "      print (\"La entrada es incorrecta: escribe un numero entero\")\n",
        "      \n",
        "\n",
        "\n",
        "    opc=input('Ingrese \"Salir\" para dejar de agregar ingredientes: ')\n",
        "    if opc == \"Salir\":\n",
        "      break\n",
        "  \n",
        "\n"
      ],
      "metadata": {
        "colab": {
          "base_uri": "https://localhost:8080/"
        },
        "id": "LnOOU_1kByZn",
        "outputId": "7a2e0a54-1efd-4533-c464-cb66088739b3"
      },
      "execution_count": 25,
      "outputs": [
        {
          "name": "stdout",
          "output_type": "stream",
          "text": [
            "['1.Pepperoni', '2.Jamon', '3.Queso', '4.Champiñones', '5.Carne']\n",
            "Escriba el numero del ingrediente que quiere añadir: 1\n",
            "Usted ha agregado 3.Queso a su pizza\n",
            "Ingrese \"Salir\" para dejar de agregar ingredientes: s\n",
            "['1.Pepperoni', '2.Jamon', '3.Queso', '4.Champiñones', '5.Carne']\n",
            "Escriba el numero del ingrediente que quiere añadir: 1\n",
            "Usted ha agregado 3.Queso a su pizza\n",
            "Ingrese \"Salir\" para dejar de agregar ingredientes: s\n",
            "['1.Pepperoni', '2.Jamon', '3.Queso', '4.Champiñones', '5.Carne']\n",
            "Escriba el numero del ingrediente que quiere añadir: 0\n",
            "Usted ha agregado 2.Jamon a su pizza\n",
            "Ingrese \"Salir\" para dejar de agregar ingredientes: Salir\n"
          ]
        }
      ]
    }
  ]
}